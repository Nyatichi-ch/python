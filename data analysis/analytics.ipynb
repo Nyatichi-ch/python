{
 "cells": [
  {
   "cell_type": "code",
   "execution_count": 10,
   "id": "3cb353e9",
   "metadata": {},
   "outputs": [
    {
     "name": "stdout",
     "output_type": "stream",
     "text": [
      "🏥 Welcome to Ubuntu General Hospital!\n",
      "Where every patient’s data is honored and cared for.\n",
      "\n",
      "   Patient_ID  Age  Gender     Condition  Treatment_Duration_Days  \\\n",
      "0           1   15  Female           Flu                       12   \n",
      "1           2   34  Female           Flu                       14   \n",
      "2           3   33  Female       Healthy                        8   \n",
      "3           4   73    Male        Asthma                       10   \n",
      "4           5   19  Female  Hypertension                        8   \n",
      "5           6   15  Female           Flu                        6   \n",
      "6           7   57  Female  Hypertension                        3   \n",
      "7           8   21  Female      Diabetes                        8   \n",
      "8           9   53    Male           Flu                        6   \n",
      "9          10   35    Male       Healthy                       14   \n",
      "\n",
      "   Satisfaction_Score  Follow_Up_Needed  \n",
      "0                   5              True  \n",
      "1                   3             False  \n",
      "2                   1              True  \n",
      "3                   2             False  \n",
      "4                   7              True  \n",
      "5                   9             False  \n",
      "6                   1             False  \n",
      "7                   1             False  \n",
      "8                   2              True  \n",
      "9                   1              True  \n",
      "\n",
      "Data saved to 'ubuntu_hospital_data.xlsx'.\n"
     ]
    }
   ],
   "source": [
    "import pandas as pd\n",
    "import numpy as np\n",
    "import matplotlib.pyplot as plt\n",
    "import seaborn as sns\n",
    "\n",
    "# Set style for beautiful plots — because beauty honors the community!\n",
    "sns.set_style(\"whitegrid\")\n",
    "plt.rcParams['figure.figsize'] = (10, 6)\n",
    "\n",
    "# 🌿 Ubuntu Hospital Dataset: \"We care because we are together.\"\n",
    "data = {\n",
    "    'Patient_ID': range(1, 101),\n",
    "    'Age': np.random.randint(1, 90, size=100),\n",
    "    'Gender': np.random.choice(['Male', 'Female'], size=100),\n",
    "    'Condition': np.random.choice(['Flu', 'Diabetes', 'Hypertension', 'Asthma', 'Healthy'], size=100, p=[0.3, 0.2, 0.2, 0.2, 0.1]),\n",
    "    'Treatment_Duration_Days': np.random.randint(1, 15, size=100),\n",
    "    'Satisfaction_Score': np.random.randint(1, 11, size=100),  # 1-10 scale\n",
    "    'Follow_Up_Needed': np.random.choice([True, False], size=100, p=[0.4, 0.6])\n",
    "}\n",
    "\n",
    "# Create DataFrame — our digital village square 🌳\n",
    "df = pd.DataFrame(data)\n",
    "\n",
    "print(\"🏥 Welcome to Ubuntu General Hospital!\")\n",
    "print(\"Where every patient’s data is honored and cared for.\\n\")\n",
    "print(df.head(10))  # Show first 10 villagers (patients)\n",
    "\n",
    "#save to excel\n",
    "df.to_excel(\"ubuntu_hospital_data.xlsx\", index=False, sheet_name=\"Patients_Data\", engine='openpyxl')\n",
    "print(\"\\nData saved to 'ubuntu_hospital_data.xlsx'.\")\n",
    "\n"
   ]
  }
 ],
 "metadata": {
  "kernelspec": {
   "display_name": "Python 3",
   "language": "python",
   "name": "python3"
  },
  "language_info": {
   "codemirror_mode": {
    "name": "ipython",
    "version": 3
   },
   "file_extension": ".py",
   "mimetype": "text/x-python",
   "name": "python",
   "nbconvert_exporter": "python",
   "pygments_lexer": "ipython3",
   "version": "3.13.5"
  }
 },
 "nbformat": 4,
 "nbformat_minor": 5
}
